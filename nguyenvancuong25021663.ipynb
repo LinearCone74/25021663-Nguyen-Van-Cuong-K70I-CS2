{
 "cells": [
  {
   "cell_type": "code",
   "execution_count": 3,
   "id": "8009d964-be51-4e1b-9a9e-aca5cfb3d170",
   "metadata": {},
   "outputs": [
    {
     "name": "stdout",
     "output_type": "stream",
     "text": [
      "2\n"
     ]
    }
   ],
   "source": [
    "#W1A1\n",
    "\n",
    "a = 7\n",
    "b = 5\n",
    "c = a - b\n",
    "print(c)\n"
   ]
  },
  {
   "cell_type": "markdown",
   "id": "bb1c5276-62dc-4b85-913a-1bfcc647928d",
   "metadata": {
    "jp-MarkdownHeadingCollapsed": true
   },
   "source": []
  },
  {
   "cell_type": "code",
   "execution_count": 6,
   "id": "b718d710-de61-4986-abf4-a31026c45014",
   "metadata": {},
   "outputs": [
    {
     "name": "stdout",
     "output_type": "stream",
     "text": [
      "Thành phố: Hà Nội -Năm 2025\n"
     ]
    }
   ],
   "source": [
    "#W1A2\n",
    "\n",
    "city = \"Hà Nội\"\n",
    "year = 2025\n",
    "print(\"Thành phố:\", city, \"-Năm\", year)"
   ]
  },
  {
   "cell_type": "code",
   "execution_count": 8,
   "id": "940a5689-f224-4cc7-a1cf-58f14fd71a76",
   "metadata": {},
   "outputs": [
    {
     "name": "stdout",
     "output_type": "stream",
     "text": [
      "10\n"
     ]
    }
   ],
   "source": [
    "#W1A3\n",
    "\n",
    "n = 4\n",
    "t = 0\n",
    "\n",
    "for i in range(1,n+1):\n",
    "    t+=i\n",
    "\n",
    "print(t)"
   ]
  },
  {
   "cell_type": "code",
   "execution_count": 9,
   "id": "2013d672-be3f-423a-95cd-aaee439652c8",
   "metadata": {},
   "outputs": [
    {
     "name": "stdout",
     "output_type": "stream",
     "text": [
      "1 là số lẻ\n",
      "2 là số chẵn\n",
      "3 là số lẻ\n",
      "4 là số chẵn\n"
     ]
    }
   ],
   "source": [
    "#W1A4\n",
    "\n",
    "numbers = [1, 2, 3, 4]\n",
    "for x in numbers:\n",
    "    if x % 2 == 0:\n",
    "        print(x, \"là số chẵn\")\n",
    "    else:\n",
    "        print(x, \"là số lẻ\")"
   ]
  },
  {
   "cell_type": "code",
   "execution_count": 10,
   "id": "4a5a1011-a2a4-4f93-8deb-6eb5017fa999",
   "metadata": {},
   "outputs": [
    {
     "name": "stdout",
     "output_type": "stream",
     "text": [
      "Số phần tử trong danh sách là: 4\n"
     ]
    }
   ],
   "source": [
    "#W1A5\n",
    "\n",
    "animals = [\"cat\", \"dog\", \"cat\", \"bird\"]\n",
    "count = 0\n",
    "\n",
    "for a in animals:\n",
    "    count += 1\n",
    "\n",
    "print(\"Số phần tử trong danh sách là:\", count)"
   ]
  },
  {
   "cell_type": "code",
   "execution_count": null,
   "id": "48519a05-8cce-47d7-8f21-7359c695950b",
   "metadata": {},
   "outputs": [],
   "source": [
    "#W1A6\n",
    "\n",
    "Chắc chắn rồi! Dưới đây là **giải thích chi tiết** về chương trình bạn đang tương tác – **\"AI Prediction System\"** (Hệ thống dự đoán AI):\n",
    "\n",
    "---\n",
    "\n",
    "### ✅ **Tổng Quan:**\n",
    "\n",
    "Đây là một **menu tương tác** mô phỏng một chương trình đơn giản do AI điều khiển, nơi bạn có thể chọn một chức năng để sử dụng. Hệ thống gồm 3 lựa chọn chính:\n",
    "\n",
    "---\n",
    "\n",
    "### 1️⃣ **Phân Tích Cảm Xúc (Sentiment Analysis)**\n",
    "\n",
    "👉 **Chức năng:**\n",
    "Cho phép bạn nhập vào một đoạn văn bản (bằng tiếng Việt hoặc tiếng Anh), và AI sẽ phân tích xem **cảm xúc** của đoạn đó là:\n",
    "\n",
    "* **Tích cực** (Positive)\n",
    "* **Tiêu cực** (Negative)\n",
    "* **Trung lập** (Neutral)\n",
    "\n",
    "📌 **Ví dụ:**\n",
    "\n",
    "* Văn bản: “Hôm nay trời thật đẹp, tôi cảm thấy rất vui!”\n",
    "  → Kết quả: **Tích cực**\n",
    "\n",
    "* Văn bản: “Tôi thật sự thất vọng về cách phục vụ ở đây.”\n",
    "  → Kết quả: **Tiêu cực**\n",
    "\n",
    "---\n",
    "\n",
    "### 2️⃣ **Dự Báo Thời Tiết (Weather Forecast)**\n",
    "\n",
    "👉 **Chức năng:**\n",
    "Bạn nhập tên **thành phố**, và hệ thống sẽ cung cấp thông tin **thời tiết hiện tại** cũng như **dự báo trong ngày** hoặc vài ngày tới, ví dụ như:\n",
    "\n",
    "* Nhiệt độ (°C/°F)\n",
    "* Trạng thái thời tiết (mưa, nắng, nhiều mây, dông…)\n",
    "* Gợi ý mặc gì hoặc nên chuẩn bị gì\n",
    "\n",
    "📌 **Ví dụ:**\n",
    "Bạn nhập \"Hà Nội\" → AI hiển thị thời tiết hiện tại + dự báo trong vài giờ tiếp theo.\n",
    "\n",
    "---\n",
    "\n",
    "### 3️⃣ **Thoát (Exit)**\n",
    "\n",
    "👉 **Chức năng:**\n",
    "Kết thúc chương trình. Nếu bạn chọn **3**, AI sẽ chào tạm biệt và dừng tương tác theo mô hình hệ thống dự đoán.\n",
    "\n",
    "---\n",
    "\n",
    "### 🧠 Công Nghệ Phía Sau:\n",
    "\n",
    "* **Ngôn ngữ:** Có thể viết chương trình này bằng Python hoặc bất kỳ ngôn ngữ lập trình nào hỗ trợ console/menu.\n",
    "* **Trí tuệ nhân tạo:** AI sử dụng mô hình xử lý ngôn ngữ tự nhiên (NLP) để hiểu và phân tích văn bản (trong phân tích cảm xúc).\n",
    "* **Dự báo thời tiết:** Dữ liệu thời tiết được lấy từ các API hoặc tra cứu trực tuyến (như OpenWeatherMap, Weather.com...).\n",
    "\n",
    "---\n",
    "\n",
    "Nếu bạn muốn, mình có thể viết **mã nguồn Python** cho chương trình này để bạn chạy thử trên máy tính. Bạn có muốn không?\n"
   ]
  },
  {
   "cell_type": "code",
   "execution_count": 14,
   "id": "7a02f1f3-40f9-4a65-a487-524e26b5ad98",
   "metadata": {},
   "outputs": [
    {
     "name": "stdin",
     "output_type": "stream",
     "text": [
      "Nhập số: 5\n"
     ]
    },
    {
     "name": "stdout",
     "output_type": "stream",
     "text": [
      "Số lẻ\n"
     ]
    }
   ],
   "source": [
    "#W1A7\n",
    "\n",
    "num = input(\"Nhập số:\")\n",
    "num = int(num)\n",
    "\n",
    "if num % 2 == 0:\n",
    "    print(\"Số chẵn\")\n",
    "else:\n",
    "    print(\"Số lẻ\")"
   ]
  },
  {
   "cell_type": "code",
   "execution_count": 15,
   "id": "f34d6b04-1100-41ba-ad7c-6763ec843e8a",
   "metadata": {},
   "outputs": [
    {
     "name": "stdout",
     "output_type": "stream",
     "text": [
      "AI đang học lần 1\n",
      "AI đang học lần 2\n",
      "AI đang học lần 3\n",
      "Huấn luyện xong!\n"
     ]
    }
   ],
   "source": [
    "#W1A8\n",
    "\n",
    "for i in range(3):\n",
    "    print(\"AI đang học lần\", i+1)\n",
    "\n",
    "print(\"Huấn luyện xong!\")\n"
   ]
  },
  {
   "cell_type": "code",
   "execution_count": 19,
   "id": "7717e38f-7fbb-435b-8845-336191b7d2f5",
   "metadata": {},
   "outputs": [
    {
     "name": "stdout",
     "output_type": "stream",
     "text": [
      "Dự đoán con vật: cat\n",
      "Dự đoán con vật: dog\n",
      "Dự đoán con vật: fish\n"
     ]
    }
   ],
   "source": [
    "#W1A9\n",
    "\n",
    "for x in [\"cat\", \"dog\", \"fish\"]:\n",
    "    print(\"Dự đoán con vật:\", x)\n"
   ]
  },
  {
   "cell_type": "code",
   "execution_count": 17,
   "id": "90c4c452-6d38-4419-8f62-f6fc59b64ee8",
   "metadata": {},
   "outputs": [
    {
     "name": "stdout",
     "output_type": "stream",
     "text": [
      "=== AI Prediction System ===\n",
      "1) Sentiment analysis\n",
      "2) Weather forecast\n",
      "3) Exit\n",
      "Please choose an option\n"
     ]
    }
   ],
   "source": [
    "#W1A10\n",
    "\n",
    "print(\"=== AI Prediction System ===\")\n",
    "print(\"1) Sentiment analysis\")\n",
    "print(\"2) Weather forecast\")\n",
    "print(\"3) Exit\")\n",
    "print(\"Please choose an option\")\n"
   ]
  },
  {
   "cell_type": "code",
   "execution_count": null,
   "id": "aa919741-b8f8-410d-9f53-c721ba51a40d",
   "metadata": {},
   "outputs": [],
   "source": []
  }
 ],
 "metadata": {
  "kernelspec": {
   "display_name": "Python 3 (ipykernel)",
   "language": "python",
   "name": "python3"
  },
  "language_info": {
   "codemirror_mode": {
    "name": "ipython",
    "version": 3
   },
   "file_extension": ".py",
   "mimetype": "text/x-python",
   "name": "python",
   "nbconvert_exporter": "python",
   "pygments_lexer": "ipython3",
   "version": "3.13.7"
  }
 },
 "nbformat": 4,
 "nbformat_minor": 5
}
