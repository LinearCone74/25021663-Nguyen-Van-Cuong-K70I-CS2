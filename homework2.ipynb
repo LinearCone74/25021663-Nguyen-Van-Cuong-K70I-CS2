{
 "cells": [
  {
   "cell_type": "code",
   "execution_count": 6,
   "id": "cc44fbec-b257-471c-b0d8-b544c62c0e39",
   "metadata": {},
   "outputs": [
    {
     "name": "stdin",
     "output_type": "stream",
     "text": [
      "Nhập 2 cạnh của hcn: 3.4 4.5\n"
     ]
    },
    {
     "name": "stdout",
     "output_type": "stream",
     "text": [
      "Chu vi hcn là: 15.8\n",
      "Diện tích hcn là: 15.30\n"
     ]
    }
   ],
   "source": [
    "# Bài 1: Nhập vào 2 cạnh của một hình chữ nhật. In ra màn hình diện tích và chu\n",
    "# vi của nó.\n",
    "\n",
    "from decimal import Decimal\n",
    "a, b = map(Decimal, input(\"Nhập 2 cạnh của hcn:\").split())\n",
    "\n",
    "print(\"Chu vi hcn là:\", (a+b) * 2)\n",
    "print(\"Diện tích hcn là:\", format(a * b))\n"
   ]
  },
  {
   "cell_type": "code",
   "execution_count": 18,
   "id": "902f0296-efca-451d-b831-14f9b76da880",
   "metadata": {},
   "outputs": [
    {
     "name": "stdin",
     "output_type": "stream",
     "text": [
      "Nhập bán kính hình tròn: 2.7\n"
     ]
    },
    {
     "name": "stdout",
     "output_type": "stream",
     "text": [
      "Diện tích hình tròn là: 22.891\n",
      "Chu vi hình tròn là: 16.956\n"
     ]
    }
   ],
   "source": [
    "# Bài 2: Nhập vào bán kính của hình tròn. In ra màn hình diện tích và chu vi của\n",
    "# nó.\n",
    "\n",
    "r = float(input(\"Nhập bán kính hình tròn:\"))\n",
    "\n",
    "print(\"Diện tích hình tròn là:\", round(r * r * 3.14, 3))\n",
    "print(\"Chu vi hình tròn là:\", round(2 * r * 3.14, 3))"
   ]
  },
  {
   "cell_type": "code",
   "execution_count": 20,
   "id": "16108f9d-9997-4264-a7c3-bccc2f4d4e1a",
   "metadata": {},
   "outputs": [
    {
     "name": "stdin",
     "output_type": "stream",
     "text": [
      "Nhập 3 số a, b, c: 3 4 5\n"
     ]
    },
    {
     "name": "stdout",
     "output_type": "stream",
     "text": [
      "Tam giác vuông\n",
      "Chu vi tam giác là: 12.0\n",
      "Diện tích tam giác là: 6.0\n"
     ]
    }
   ],
   "source": [
    "# Bài 3 : Tính tam giác: Nhâp vào ba số a,b,c bất kì. Kiểm tra xem nó có thể là\n",
    "# độ dài ba cạnh hay không, nếu không thì in ra màn hình 'Khong la ba canh\n",
    "# cua mot tam giac'. Ngượclại, kiểm tra xem nó là tam giác gì: Đều, Cân,\n",
    "# Vuông, hay Tam giác thường. Tính diện tích, chu vi của tam giác và in ra màn\n",
    "# hình.\n",
    "\n",
    "import math\n",
    "\n",
    "a, b, c = map(float, input(\"Nhập 3 số a, b, c:\").split())\n",
    "\n",
    "if ((a+b > c) and (b+c > a) and (c+a > b)):\n",
    "    if ((a == b) and (b == c)): \n",
    "        print(\"Tam giác đều\")\n",
    "    elif ((a == b) or (b == c) or (c == a)):\n",
    "        print(\"Tam giác cân\")\n",
    "    elif ((a*a + b*b == c*c) or (b*b + c*c == a*a) or (c*c + a*a == b*b)):\n",
    "        print(\"Tam giác vuông\")\n",
    "    else:\n",
    "        print(\"Tam giác thường\")\n",
    "\n",
    "    p = (a + b + c) / 2\n",
    "    s = p * (p-a) * (p-b) * (p-c)\n",
    "\n",
    "    print(\"Chu vi tam giác là:\", p * 2)\n",
    "    print(\"Diện tích tam giác là:\", math.sqrt(s))\n",
    "\n",
    "else: \n",
    "    print(\"Không là ba cạnh của một tam giác\")\n"
   ]
  },
  {
   "cell_type": "code",
   "execution_count": 21,
   "id": "08b54b69-d3f3-42ba-bd7d-a831106d49d6",
   "metadata": {},
   "outputs": [
    {
     "name": "stdin",
     "output_type": "stream",
     "text": [
      "Nhập a, b: 24 52\n"
     ]
    },
    {
     "name": "stdout",
     "output_type": "stream",
     "text": [
      "Phương trình có 1 nghiệm duy nhất: x = -2.1666666666666665\n"
     ]
    }
   ],
   "source": [
    "# Bài 4: Viết chương trình giải phương trình bậc 1 (ax + b = 0)\n",
    "\n",
    "a, b = map(float, input(\"Nhập a, b:\").split())\n",
    "\n",
    "if ((a == 0) and (b == 0)):\n",
    "    print(\"Phương trình vô số nghiệm\")\n",
    "elif ((a == 0) and (b != 0)):\n",
    "    print(\"Phương trình vô nghiệm\")\n",
    "else:\n",
    "    print(\"Phương trình có 1 nghiệm duy nhất: x =\", -b / a)\n"
   ]
  },
  {
   "cell_type": "code",
   "execution_count": 15,
   "id": "a9f63307-b5c3-4f16-9f94-b1fe8d6c4a9a",
   "metadata": {},
   "outputs": [
    {
     "name": "stdin",
     "output_type": "stream",
     "text": [
      "Nhập a, b, c 1 -3 -4\n"
     ]
    },
    {
     "name": "stdout",
     "output_type": "stream",
     "text": [
      "Phương trình có 2 nghiệm phân biệt: x1 = 4.0 ; x2 = -1.0\n"
     ]
    }
   ],
   "source": [
    "# Bài 5: Viết chương trình giải phương trình bậc 2 (ax2 + bx + c = 0)\n",
    "\n",
    "from math import sqrt\n",
    "\n",
    "a, b, c = map(float, input(\"Nhập a, b, c\").split())\n",
    "\n",
    "if (a == 0):\n",
    "    if (b == 0):\n",
    "        if (c == 0):\n",
    "            print(\"Phương trình vô số nghiệm\")\n",
    "        else:\n",
    "            print(\"Phương trình vô nghiệm\")\n",
    "    else:\n",
    "        print(\"Phương trình có 1 nghiệm duy nhất: x =\", -c/b)\n",
    "else:\n",
    "    delta = b*b - 4*a*c\n",
    "    if (delta < 0):\n",
    "        print(\"Phương trình vô nghiệm\")\n",
    "    elif (delta == 0):\n",
    "        print(\"Phương trình có 1 nghiệm kép: x =\", -b / (2*a))\n",
    "    else:\n",
    "        print(\"Phương trình có 2 nghiệm phân biệt: x1 =\", - (b - sqrt(delta)) / (2*a), \"; x2 =\", - (b + sqrt(delta)) / (2*a))\n"
   ]
  },
  {
   "cell_type": "code",
   "execution_count": 24,
   "id": "5468d9e5-4af0-45d1-987e-538a4d4e7445",
   "metadata": {},
   "outputs": [
    {
     "name": "stdin",
     "output_type": "stream",
     "text": [
      "Nhập 4 số a, b, c, d: 4 5 2 3\n"
     ]
    },
    {
     "name": "stdout",
     "output_type": "stream",
     "text": [
      "5.0\n"
     ]
    }
   ],
   "source": [
    "# Bài 6: Tìm giá trị lớn nhất trong 4 số a, b, c, d (a, b, c, được nhập từ bàn phím).\n",
    "\n",
    "a, b, c, d = map(float, input(\"Nhập 4 số a, b, c, d:\").split())\n",
    "\n",
    "max = a\n",
    "if (max < b): max = b\n",
    "if (max < c): max = c\n",
    "if (max < d): max = d\n",
    "\n",
    "print(max)\n"
   ]
  },
  {
   "cell_type": "code",
   "execution_count": 25,
   "id": "f4a00fb5-d81d-497c-8265-2bd5ca7f291b",
   "metadata": {},
   "outputs": [
    {
     "name": "stdin",
     "output_type": "stream",
     "text": [
      "Nhập 4 số a, b, c, d: 3 5 2 7\n"
     ]
    },
    {
     "name": "stdout",
     "output_type": "stream",
     "text": [
      "2.0\n"
     ]
    }
   ],
   "source": [
    "# Bài 7: Tìm giá trị nhỏ nhất trong 4 số a, b, c, d (a, b, c, được nhập từ bàn phím)\n",
    "\n",
    "a, b, c, d = map(float, input(\"Nhập 4 số a, b, c, d:\").split())\n",
    "\n",
    "min = a\n",
    "if (min > b): min = b\n",
    "if (min > c): min = c\n",
    "if (min > d): min = d\n",
    "\n",
    "print(min)"
   ]
  },
  {
   "cell_type": "code",
   "execution_count": 15,
   "id": "385162ea-bac9-4415-86f1-93bbc4ecc61f",
   "metadata": {},
   "outputs": [
    {
     "name": "stdin",
     "output_type": "stream",
     "text": [
      "Nhập 3 số a, b, m: 3 6 7\n",
      "Nhập 3 số c, d, n: 2 7 9\n"
     ]
    },
    {
     "name": "stdout",
     "output_type": "stream",
     "text": [
      "Hệ phương trình có 1 nghiệm duy nhất: x = -0.5555555555555556 , y = 1.4444444444444444.\n"
     ]
    }
   ],
   "source": [
    "# Bài 8: Giải hệ phương trình tuyến tính:\n",
    "# ax + by = m\n",
    "# cx + dy = n\n",
    "\n",
    "a, b, m = map(float, input(\"Nhập 3 số a, b, m:\").split())\n",
    "c, d, n = map(float, input(\"Nhập 3 số c, d, n:\").split())\n",
    "\n",
    "delta = a*d - c*b\n",
    "delta_x = m*d - n*b\n",
    "delta_y = a*n - c*m\n",
    "\n",
    "if (delta != 0):\n",
    "    print(\"Hệ phương trình có 1 nghiệm duy nhất: x =\", delta_x / delta, \", y =\", delta_y / delta, end = \"\")\n",
    "    print(\".\")\n",
    "else:\n",
    "    if ((delta_x == 0) and (delta_y == 0)):\n",
    "        print(\"Phương trình vô số nghiệm.\")\n",
    "    else:\n",
    "        print(\"Phương trình vô nghiệm.\")\n",
    "    "
   ]
  },
  {
   "cell_type": "code",
   "execution_count": 3,
   "id": "50fb3440-509d-47ea-bde5-93d54d39c7f4",
   "metadata": {},
   "outputs": [
    {
     "name": "stdin",
     "output_type": "stream",
     "text": [
      "Nhập số giây: 12345\n"
     ]
    },
    {
     "name": "stdout",
     "output_type": "stream",
     "text": [
      "3 giờ 25 phút 45.0 giây,\n"
     ]
    }
   ],
   "source": [
    "# Bài 9: Nhập vào thời gian 1 công việc nàođó là x giây. Hãy chuyểnđổi và viết\n",
    "# ra màn hình số thời gian trên dưới dạng bằng bao nhiêu giờ, bao nhiêu phút, bao\n",
    "# nhiêu giây.\n",
    "\n",
    "x = float(input(\"Nhập số giây:\"))\n",
    "\n",
    "h = int(x / 3600)\n",
    "p = int((x - h*3600) / 60)\n",
    "s = x - int(x / 60) * 60\n",
    "\n",
    "print(h, \"giờ\", p, \"phút\", s, \"giây,\")\n"
   ]
  },
  {
   "cell_type": "code",
   "execution_count": 5,
   "id": "19d11280-68b8-4114-878b-7d2349f8b0c4",
   "metadata": {},
   "outputs": [
    {
     "name": "stdin",
     "output_type": "stream",
     "text": [
      "Nhập tọa độ tâm I(a,b): 2 3\n",
      "Nhập bán kính đường tròn: 4 \n",
      "Nhập tọa độ điểm A(x,y): 5 6\n"
     ]
    },
    {
     "name": "stdout",
     "output_type": "stream",
     "text": [
      "Điểm A không thuộc đường tròn.\n"
     ]
    }
   ],
   "source": [
    "# Bài 10: Nhập vào tâm và bán kính của mộtđường tròn. Sauđó nhập vào một\n",
    "# điểm A(x, y) bất kì và kiểm tra xem nó có thuộcđường tròn hay không?\n",
    "\n",
    "a, b = map(float, input(\"Nhập tọa độ tâm I(a,b):\").split())\n",
    "r = float(input(\"Nhập bán kính đường tròn:\"))\n",
    "x, y = map(float, input(\"Nhập tọa độ điểm A(x,y):\").split())\n",
    "\n",
    "d = (a - x) ** 2 + (b - y) ** 2\n",
    "\n",
    "if (d == r * r):\n",
    "    print(\"Điểm A thuộc đường tròn.\")\n",
    "else:\n",
    "    print(\"Điểm A không thuộc đường tròn.\")\n"
   ]
  },
  {
   "cell_type": "code",
   "execution_count": 6,
   "id": "a91b4bf2-4998-4e6a-b2ed-0dd8d258959d",
   "metadata": {},
   "outputs": [
    {
     "name": "stdin",
     "output_type": "stream",
     "text": [
      "Nhập x, y: 2 3\n"
     ]
    },
    {
     "name": "stdout",
     "output_type": "stream",
     "text": [
      "2.0 ^ 3.0 = 8.0\n"
     ]
    }
   ],
   "source": [
    "# Bài 11: Tính x^y (Với x, y là số thực).\n",
    "\n",
    "x, y = map(float, input(\"Nhập x, y:\").split())\n",
    "\n",
    "print (x, \"^\", y, \"=\", x ** y)\n"
   ]
  },
  {
   "cell_type": "code",
   "execution_count": null,
   "id": "5a5f5818-3bad-45f9-94ab-720abf186b1b",
   "metadata": {},
   "outputs": [],
   "source": []
  }
 ],
 "metadata": {
  "kernelspec": {
   "display_name": "Python 3 (ipykernel)",
   "language": "python",
   "name": "python3"
  },
  "language_info": {
   "codemirror_mode": {
    "name": "ipython",
    "version": 3
   },
   "file_extension": ".py",
   "mimetype": "text/x-python",
   "name": "python",
   "nbconvert_exporter": "python",
   "pygments_lexer": "ipython3",
   "version": "3.13.7"
  }
 },
 "nbformat": 4,
 "nbformat_minor": 5
}
