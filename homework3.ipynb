{
 "cells": [
  {
   "cell_type": "code",
   "execution_count": 5,
   "id": "8a0e7691-42b0-424d-9afd-b370063c8cba",
   "metadata": {},
   "outputs": [
    {
     "name": "stdin",
     "output_type": "stream",
     "text": [
      "Nhập a, b: 234 346\n"
     ]
    },
    {
     "name": "stdout",
     "output_type": "stream",
     "text": [
      "a = 346\n",
      "b = 234\n"
     ]
    }
   ],
   "source": [
    "# #W3A2 Hoán đổi hai số không sd biến tạm thời\n",
    "# Sử dụng phép toán XOR trên bit để hoán đổi giá trị của hai biến.\n",
    "\n",
    "a, b = map(int, input(\"Nhập a, b:\").split())\n",
    "\n",
    "a = a ^ b\n",
    "b = a ^ b\n",
    "a = a ^ b\n",
    "\n",
    "print(\"a =\", a)\n",
    "print(\"b =\", b)\n"
   ]
  },
  {
   "cell_type": "code",
   "execution_count": 9,
   "id": "851cb784-e585-444a-83ae-aeb171009a1d",
   "metadata": {},
   "outputs": [
    {
     "name": "stdin",
     "output_type": "stream",
     "text": [
      "Nhập n: 5\n"
     ]
    },
    {
     "name": "stdout",
     "output_type": "stream",
     "text": [
      "5 không phải là lũy thừa của 2\n"
     ]
    }
   ],
   "source": [
    "# W3A3 Kiểm tra xem một số có phải là lũy thừa của 2 hay không\n",
    "# Sử dụng các toán tử bitwise để xác định xem một số có phải là lũy thừa của 2\n",
    "# hay không\n",
    "\n",
    "n = int(input(\"Nhập n:\"))\n",
    "\n",
    "if (n & (n-1) == 0):\n",
    "    print(n, \"là một lũy thừa của 2\")\n",
    "else:\n",
    "    print(n, \"không phải là lũy thừa của 2\")\n"
   ]
  },
  {
   "cell_type": "code",
   "execution_count": 16,
   "id": "d1c9db40-cd61-4a1b-b05e-bbe76fc1fa85",
   "metadata": {},
   "outputs": [
    {
     "name": "stdin",
     "output_type": "stream",
     "text": [
      "Nhap m, n: 334 3467\n"
     ]
    },
    {
     "name": "stdout",
     "output_type": "stream",
     "text": [
      "334.0 / 3467.0 = 0.09\n"
     ]
    }
   ],
   "source": [
    "# W3A4 Viêt chương trình chia một số m cho n, kết quả thu được làm tròn xuống\n",
    "\n",
    "m, n = map(float, input(\"Nhap m, n:\").split())\n",
    "\n",
    "t = m / n\n",
    "k = round(t, 2)\n",
    "\n",
    "if (t - k >= 0):\n",
    "    print(m, \"/\", n, \"=\", k)\n",
    "else:\n",
    "    print(m, \"/\", n, \"=\", round(k - 0.01, 2))\n"
   ]
  },
  {
   "cell_type": "code",
   "execution_count": 17,
   "id": "465252d5-ceae-428c-8def-db91fcf687fc",
   "metadata": {},
   "outputs": [
    {
     "name": "stdin",
     "output_type": "stream",
     "text": [
      "Nhap m, n: 334 3467\n"
     ]
    },
    {
     "name": "stdout",
     "output_type": "stream",
     "text": [
      "334.0 / 3467.0 = 0.1\n"
     ]
    }
   ],
   "source": [
    "# W3A5 Viêt chương trình chia một số m cho n, kết quả thu được làm tròn lên\n",
    "\n",
    "m, n = map(float, input(\"Nhap m, n:\").split())\n",
    "\n",
    "t = m / n\n",
    "k = round(t, 2)\n",
    "\n",
    "if (t - k <= 0):\n",
    "    print(m, \"/\", n, \"=\", k)\n",
    "else:\n",
    "    print(m, \"/\", n, \"=\", round(k + 0.01, 2))"
   ]
  },
  {
   "cell_type": "code",
   "execution_count": 28,
   "id": "dd270c6e-442c-4613-b1f9-c7a69abd076d",
   "metadata": {},
   "outputs": [
    {
     "name": "stdin",
     "output_type": "stream",
     "text": [
      "Nhap so nguyen x: 234\n"
     ]
    },
    {
     "name": "stdout",
     "output_type": "stream",
     "text": [
      "Even\n"
     ]
    }
   ],
   "source": [
    "# W3A6\n",
    "# [Even and Odd]\n",
    "# Nhập vào một số nguyên dương x, bạn hãy kiểm tra xem x là số chẵn hay lẻ.\n",
    "# Nếu x là số chẵn, in ra \"Even\". Nếu x là số lẻ, in ra \"Odd\".\n",
    "\n",
    "x = int(input(\"Nhap so nguyen x:\"))\n",
    "\n",
    "if (x % 2 == 0):\n",
    "    print(\"Even\")\n",
    "else:\n",
    "    print(\"Odd\")\n",
    "    "
   ]
  },
  {
   "cell_type": "code",
   "execution_count": 29,
   "id": "a2bd681e-b779-47e2-8878-94c987f8509e",
   "metadata": {},
   "outputs": [
    {
     "name": "stdin",
     "output_type": "stream",
     "text": [
      "Nhap a, b: -234 245\n"
     ]
    },
    {
     "name": "stdout",
     "output_type": "stream",
     "text": [
      "No\n"
     ]
    }
   ],
   "source": [
    "# W3A7\n",
    "# [Check negative numbers]\n",
    "# Nhập vào hai số nguyên a, b. Nếu cả hai số a, b đều âm thì in ra \"Yes\",\n",
    "# ngược lại in ra \"No\".\n",
    "\n",
    "a, b = map(int, input(\"Nhap a, b:\").split())\n",
    "\n",
    "if ((a < 0) and (b < 0)):\n",
    "    print(\"Yes\")\n",
    "else:\n",
    "    print(\"No\")\n",
    "    "
   ]
  },
  {
   "cell_type": "code",
   "execution_count": 81,
   "id": "a07fd2df-9d65-46a6-9e02-d41804c4d494",
   "metadata": {},
   "outputs": [
    {
     "name": "stdin",
     "output_type": "stream",
     "text": [
      "Nhap chuoi a: sferot 2oegrio\n",
      "Nhap chuoi b: 234etiogufsd 2oieurg dsfgiosu4\n"
     ]
    },
    {
     "name": "stdout",
     "output_type": "stream",
     "text": [
      "False\n"
     ]
    }
   ],
   "source": [
    "# W3A8\n",
    "# [Longer string]\n",
    "# Nhập vào hai chuỗi a, b gồm các chữ cái thường. In ra \"True\" nếu chuỗi a\n",
    "# dài hơn chuỗi b. Ngược lại in ra \"False\"\n",
    "\n",
    "a = input(\"Nhap chuoi a:\")\n",
    "b = input(\"Nhap chuoi b:\")\n",
    "\n",
    "if (len(a) > len(b)):\n",
    "    print(\"True\")\n",
    "else: \n",
    "    print(\"False\")\n",
    "    "
   ]
  },
  {
   "cell_type": "code",
   "execution_count": 31,
   "id": "6cadfc8b-6324-4940-b513-ffd7caaba8be",
   "metadata": {},
   "outputs": [
    {
     "name": "stdin",
     "output_type": "stream",
     "text": [
      "Nhap a, b, c: 3 4 5\n"
     ]
    },
    {
     "name": "stdout",
     "output_type": "stream",
     "text": [
      "Yes\n"
     ]
    }
   ],
   "source": [
    "# W3A9\n",
    "# [Triangle]\n",
    "# Nhập vào 3 số nguyên dương a, b, c. Kiểm tra xem a, b, c có cấu thành độ\n",
    "# dài cạnh của 1 tam giác được không. Nếu a, b, c cấu tạo thành được một tam\n",
    "# giác, in ra \"Yes\". Ngược lại in ra \"No\".\n",
    "\n",
    "a, b, c = map(int, input(\"Nhap a, b, c:\").split())\n",
    "\n",
    "if ((a+b > c) and (b+c > a) and (c+a > b)):\n",
    "    print(\"Yes\")\n",
    "else:\n",
    "    print(\"No\")\n",
    "    "
   ]
  },
  {
   "cell_type": "code",
   "execution_count": 35,
   "id": "e33cffe7-cba5-40ed-8237-d066608ec037",
   "metadata": {},
   "outputs": [
    {
     "name": "stdin",
     "output_type": "stream",
     "text": [
      "Nhap 4 so nguyen 345 456 234 6452\n"
     ]
    },
    {
     "name": "stdout",
     "output_type": "stream",
     "text": [
      "6452\n"
     ]
    }
   ],
   "source": [
    "# W3A10 [Largest number]\n",
    "# Nhập vào 4 số nguyên. In ra màn hình số nguyên lớn nhất trong 4 số\n",
    "\n",
    "a, b, c, d = map(int,(input(\"Nhap 4 so nguyen\").split()))\n",
    "\n",
    "print(max(a, b, c, d))\n"
   ]
  },
  {
   "cell_type": "code",
   "execution_count": 42,
   "id": "12a90850-e8b1-438a-a4fd-d6cc911f0600",
   "metadata": {},
   "outputs": [
    {
     "name": "stdin",
     "output_type": "stream",
     "text": [
      "Nhap 4 so nguyen 3245 6435 9078 2355\n"
     ]
    },
    {
     "name": "stdout",
     "output_type": "stream",
     "text": [
      "So lon nhat la: 9078\n"
     ]
    }
   ],
   "source": [
    "# W3A10 [Largest number]\n",
    "# Nhập vào 4 số nguyên. In ra màn hình số nguyên lớn nhất trong 4 số\n",
    "# Cách 2\n",
    "\n",
    "a, b, c, d = map(int,(input(\"Nhap 4 so nguyen\").split()))\n",
    "\n",
    "max = a\n",
    "if (b > max): max = b\n",
    "if (c > max): max = c\n",
    "if (d > max): max = d\n",
    "\n",
    "print(\"So lon nhat la:\", max)\n"
   ]
  },
  {
   "cell_type": "code",
   "execution_count": 47,
   "id": "c10ad66e-71f7-4b91-96f6-96cb4c7b5d0f",
   "metadata": {},
   "outputs": [
    {
     "name": "stdin",
     "output_type": "stream",
     "text": [
      "Nhap 3 so a, b, c: 3 4 4\n"
     ]
    },
    {
     "name": "stdout",
     "output_type": "stream",
     "text": [
      "Tam giác cân\n"
     ]
    }
   ],
   "source": [
    "# W3A11\n",
    "# [Phân loại tam giác]\n",
    "# Nhập vào 3 số nguyên dương a,b,c là độ dài 3 cạnh của một tam giác. Kiểm\n",
    "# tra 3 số đã nhập có tạo thành một tam giác hợp lệ hay không. Nếu không in\n",
    "# ra \"Không phải tam giác\". Nếu có, phân loại tam giác đó là \"Tam giác đều\",\n",
    "# \"Tam giác cân\", hay \"Tam giác thường\".\n",
    "\n",
    "def tam_giac(a, b, c):\n",
    "    if ((a+b > c) and (b+c > a) and (c+a > b)):\n",
    "        return True\n",
    "    return False\n",
    "\n",
    "a, b, c = map(int, input(\"Nhap 3 so a, b, c:\").split())\n",
    "\n",
    "if (tam_giac(a, b, c)):\n",
    "    if ((a == b) and (b == c)):\n",
    "        print(\"Tam giác đều\")\n",
    "    elif ((a == b) or (b == c)):\n",
    "        print(\"Tam giác cân\")\n",
    "    else: \n",
    "        print(\"Tam giác thường\")\n",
    "\n",
    "else:\n",
    "    print(\"Không phải tam giác\")\n",
    "    "
   ]
  },
  {
   "cell_type": "code",
   "execution_count": 49,
   "id": "2d245c24-de5e-45ce-9706-33ff2d8e1ac8",
   "metadata": {},
   "outputs": [
    {
     "name": "stdin",
     "output_type": "stream",
     "text": [
      "Nhập n: 2025\n"
     ]
    },
    {
     "name": "stdout",
     "output_type": "stream",
     "text": [
      "2025 không là năm nhuận\n"
     ]
    }
   ],
   "source": [
    "# W3A12\n",
    "# [Kiểm tra năm nhuận]\n",
    "# Nhập vào một số nguyên dương n là số năm, kiểm tra xem năm đó có phải là\n",
    "# năm nhuận hay không. Năm nhuận là năm chia hết cho 4 nhưng không chia\n",
    "# hết cho 100, hoặc chia hết cho 400. Nếu là năm nhuận in ra \"Yes\", nếu\n",
    "# không in ra \"No\"\n",
    "\n",
    "n = int(input(\"Nhập n:\"))\n",
    "\n",
    "if (((n % 4 == 0) and (n % 100 != 0)) or (n % 400 == 0)):\n",
    "    print(n, \"là năm nhuận\")\n",
    "else:\n",
    "    print(n, \"không là năm nhuận\")\n",
    "    "
   ]
  },
  {
   "cell_type": "code",
   "execution_count": 54,
   "id": "7ad8991f-6de4-4a78-a608-99cc9ad958b4",
   "metadata": {},
   "outputs": [
    {
     "name": "stdin",
     "output_type": "stream",
     "text": [
      "Nhập a, b: 1234 0\n"
     ]
    },
    {
     "name": "stdout",
     "output_type": "stream",
     "text": [
      "Phương trình có 1 nghiệm duy nhất: x = 0.0\n"
     ]
    }
   ],
   "source": [
    "# W3A14\n",
    "# [Giải phương trình bậc nhất]\n",
    "# Nhập vào hai số thực a và b của phương trình ax + b = 0. Tìm và in ra\n",
    "# nghiệm của phương trình, kết quả làm tròn đến số thập phân thứ 2. In ra \"Vô\n",
    "# nghiệm\" hoặc \"Vô số nghiệm\" trong trường hợp tương ứng.\n",
    "\n",
    "a, b = map(int, input(\"Nhập a, b:\").split())\n",
    "\n",
    "if ((a == 0) and (b == 0)):\n",
    "    print(\"Phương trình vô số nghiệm\")\n",
    "elif ((a == 0) and (b != 0)):\n",
    "    print(\"Phương trình vô nghiệm\")\n",
    "else:\n",
    "    print(\"Phương trình có 1 nghiệm duy nhất: x =\", -b / a)\n"
   ]
  },
  {
   "cell_type": "code",
   "execution_count": 59,
   "id": "77f6e659-ddc3-452a-88f9-89583fe708d9",
   "metadata": {},
   "outputs": [
    {
     "name": "stdin",
     "output_type": "stream",
     "text": [
      "Nhập đtb của học sinh: 6\n"
     ]
    },
    {
     "name": "stdout",
     "output_type": "stream",
     "text": [
      "Học lực: Trung bình\n"
     ]
    }
   ],
   "source": [
    "# W3A15\n",
    "# [Xếp loại học lực]\n",
    "# Nhập vào điểm trung bình của một học sinh và in ra học lực của học sinh đó.\n",
    "# Xếp loại học lực theo quy tắc:\n",
    "# >= 8.0: Giỏi- >= 6.5: Khá\n",
    "# >= 5.0: Trung bình\n",
    "# < 5.0: Yếu\n",
    "\n",
    "n = float(input(\"Nhập đtb của học sinh:\"))\n",
    "\n",
    "if (n >= 8):\n",
    "    print(\"Học lực: Giỏi\")\n",
    "elif (n >= 6.5):\n",
    "    print(\"Học lực: Khá\")\n",
    "elif (n >= 5):\n",
    "    print(\"Học lực: Trung bình\")\n",
    "else:\n",
    "    print(\"Học lực: Yếu\")\n"
   ]
  },
  {
   "cell_type": "code",
   "execution_count": 66,
   "id": "4a36a6b2-6412-4551-80dc-79a4f75fc591",
   "metadata": {},
   "outputs": [
    {
     "name": "stdin",
     "output_type": "stream",
     "text": [
      "Nhập n: 9.9345\n"
     ]
    },
    {
     "name": "stdout",
     "output_type": "stream",
     "text": [
      "ans: 10 9 10\n"
     ]
    }
   ],
   "source": [
    "# W3A16\n",
    "# [Rounding]\n",
    "# Nhập vào một số thực: in ra kết quả làm tròn lên, tròn xuống, làm tròn tới số\n",
    "# nguyên gần nhất (không được sử dụng hàm sẵn có của pyton). Các kết quả\n",
    "# cách nhau một dấu cách\n",
    "\n",
    "n = float(input(\"Nhập n:\"))\n",
    "\n",
    "def out_num (n):\n",
    "    i = n - int(n)\n",
    "    if (i < 0.5): return int(n)\n",
    "    return int(n) + 1\n",
    "\n",
    "print(\"ans:\", int(n) + 1, int(n), out_num(n))\n"
   ]
  },
  {
   "cell_type": "code",
   "execution_count": 80,
   "id": "8af53581-bd31-41c5-97d7-787f8e1ea36a",
   "metadata": {},
   "outputs": [
    {
     "name": "stdin",
     "output_type": "stream",
     "text": [
      "Nhập 4 số a, b, c, d: 1 2 4 8\n"
     ]
    },
    {
     "name": "stdout",
     "output_type": "stream",
     "text": [
      "1 , 2 , 4 , 8 là một cấp số nhân.\n"
     ]
    }
   ],
   "source": [
    "# W3A17\n",
    "# Cấp số nhân\n",
    "# Cho 4 số a, b, c, d. Hãy kiểm tra xem 4 số này có thể theo thứ tự tạo thành 1\n",
    "# cấp số nhân với công bội nguyên theo đúng thứ tự a, b, c, d hay không?\n",
    "# Gợi ý : Tìm công bội (b / a) nếu b chia hết cho a, sau đó lấy b nhân công bội\n",
    "# và so sánh vs c, c nhân công bội và so sánh vs d.\n",
    "\n",
    "a, b, c, d = map(int, input(\"Nhập 4 số a, b, c, d:\").split())\n",
    "lst = [a, b, c, d]\n",
    "\n",
    "if (b % a == 0):\n",
    "    k = b / a\n",
    "    if ((b * k == c) and (c * k == d)):\n",
    "        print(a, \",\", b, \",\", c, \",\", d, \"là một cấp số nhân.\")\n",
    "    else:\n",
    "        print(a, \",\", b, \",\", c, \",\", d, \"Không phải là một cấp số nhân.\")        \n",
    "else:\n",
    "    print(a, \",\", b, \",\", c, \",\", d, \"Không phải là một cấp số nhân.\")\n",
    "    "
   ]
  },
  {
   "cell_type": "code",
   "execution_count": null,
   "id": "90f6c064-958a-412d-a8d2-4104e678a26d",
   "metadata": {},
   "outputs": [],
   "source": []
  }
 ],
 "metadata": {
  "kernelspec": {
   "display_name": "Python 3 (ipykernel)",
   "language": "python",
   "name": "python3"
  },
  "language_info": {
   "codemirror_mode": {
    "name": "ipython",
    "version": 3
   },
   "file_extension": ".py",
   "mimetype": "text/x-python",
   "name": "python",
   "nbconvert_exporter": "python",
   "pygments_lexer": "ipython3",
   "version": "3.13.7"
  }
 },
 "nbformat": 4,
 "nbformat_minor": 5
}
