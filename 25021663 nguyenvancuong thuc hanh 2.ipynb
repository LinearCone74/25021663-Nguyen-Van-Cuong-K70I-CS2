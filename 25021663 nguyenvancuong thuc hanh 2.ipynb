{
 "cells": [
  {
   "cell_type": "code",
   "execution_count": 1,
   "id": "db2bf2cc-879d-4c9f-947e-6d2c32224c02",
   "metadata": {},
   "outputs": [
    {
     "name": "stdout",
     "output_type": "stream",
     "text": [
      "Hello World\n"
     ]
    }
   ],
   "source": [
    "#W2A1\n",
    "\n",
    "print(\"Hello World\")"
   ]
  },
  {
   "cell_type": "code",
   "execution_count": 4,
   "id": "6fc1860a-c96c-4581-a91f-7df23e1d3dd2",
   "metadata": {},
   "outputs": [
    {
     "name": "stdin",
     "output_type": "stream",
     "text": [
      " vancuong\n"
     ]
    },
    {
     "name": "stdout",
     "output_type": "stream",
     "text": [
      "Hello! vancuong\n"
     ]
    }
   ],
   "source": [
    "#W2A1\n",
    "\n",
    "name = input()\n",
    "print(\"Hello!\", name)"
   ]
  },
  {
   "cell_type": "code",
   "execution_count": 17,
   "id": "1bb93a68-7902-4598-a50f-c752bcb39f54",
   "metadata": {},
   "outputs": [
    {
     "name": "stdin",
     "output_type": "stream",
     "text": [
      "a = 46\n",
      "b = 56\n"
     ]
    },
    {
     "name": "stdout",
     "output_type": "stream",
     "text": [
      "\n",
      "46 + 56 = 102\n",
      "46 - 56 = -10\n",
      "46 x 56 = 2576\n",
      "46 // 56 = 0\n",
      "46 % 56 = 46\n",
      "46 / 56 = 0.82\n"
     ]
    }
   ],
   "source": [
    "#W2A3\n",
    "\n",
    "a = int(input(\"a =\"))\n",
    "b = int(input(\"b =\"))\n",
    "c = a/b\n",
    "print()\n",
    "\n",
    "print(a, \"+\", b, \"=\", a+b)\n",
    "print(a, \"-\", b, \"=\", a-b)\n",
    "print(a, \"x\", b, \"=\", a*b)\n",
    "print(a, \"//\", b, \"=\", a//b)\n",
    "print(a, \"%\", b, \"=\", a%b)\n",
    "print(a, \"/\", b, \"=\", round(c,2))"
   ]
  },
  {
   "cell_type": "code",
   "execution_count": 18,
   "id": "5a9f12ec-5fc8-4925-882d-9482a481637e",
   "metadata": {},
   "outputs": [
    {
     "name": "stdin",
     "output_type": "stream",
     "text": [
      " 123 456\n"
     ]
    },
    {
     "name": "stdout",
     "output_type": "stream",
     "text": [
      "\n",
      "123 + 456 = 579\n",
      "123 - 456 = -333\n",
      "123 x 456 = 56088\n",
      "123 // 456 = 0\n",
      "123 % 456 = 123\n",
      "123 / 456 = 0.27\n"
     ]
    }
   ],
   "source": [
    "#W2A3\n",
    "a, b = map(int, input().split())\n",
    "c = a/b\n",
    "print()\n",
    "\n",
    "print(a, \"+\", b, \"=\", a+b)\n",
    "print(a, \"-\", b, \"=\", a-b)\n",
    "print(a, \"x\", b, \"=\", a*b)\n",
    "print(a, \"//\", b, \"=\", a//b)\n",
    "print(a, \"%\", b, \"=\", a%b)\n",
    "print(a, \"/\", b, \"=\", round(c,2))"
   ]
  },
  {
   "cell_type": "code",
   "execution_count": 12,
   "id": "ce9e0104-f907-4485-8313-accae05abad0",
   "metadata": {},
   "outputs": [
    {
     "name": "stdin",
     "output_type": "stream",
     "text": [
      " 9.5 8.7 9.25 10 7.75 9.25\n"
     ]
    },
    {
     "name": "stdout",
     "output_type": "stream",
     "text": [
      "Điểm trung bình của môn học: 9.1\n"
     ]
    }
   ],
   "source": [
    "#W2A4\n",
    "\n",
    "a1, b1, c1, a2, b2, a3 = map(float, input().split())\n",
    "\n",
    "tbc = ((a1+b1+c1) + (a2+b2)*2 + a3*3) / 10\n",
    "\n",
    "print (\"Điểm trung bình của môn học:\", round(tbc,1))"
   ]
  },
  {
   "cell_type": "code",
   "execution_count": 16,
   "id": "bb92d533-cdd4-4204-8658-bd7c67668007",
   "metadata": {},
   "outputs": [
    {
     "name": "stdin",
     "output_type": "stream",
     "text": [
      " 2 3\n"
     ]
    },
    {
     "name": "stdout",
     "output_type": "stream",
     "text": [
      "2 ^ 3 = 8\n"
     ]
    }
   ],
   "source": [
    "#W2A5\n",
    "\n",
    "a, b = map(int, input().split())\n",
    "kq = a ** b\n",
    "\n",
    "print(a, \"^\", b, \"=\", kq)"
   ]
  },
  {
   "cell_type": "code",
   "execution_count": 24,
   "id": "a1aa9c4d-cb6e-4299-93f8-b2206e33bcd8",
   "metadata": {},
   "outputs": [
    {
     "name": "stdin",
     "output_type": "stream",
     "text": [
      "Nhập chữ cái: r\n"
     ]
    },
    {
     "name": "stdout",
     "output_type": "stream",
     "text": [
      "Mã Unicode của r: 114\n",
      "Kí tự in hoa tương ứng của r: R\n"
     ]
    }
   ],
   "source": [
    "#W2A6\n",
    "\n",
    "s = input(\"Nhập chữ cái:\")\n",
    "\n",
    "print(\"Mã Unicode của\", s +  \":\" , ord(s))\n",
    "s_hoa = s.upper()\n",
    "\n",
    "print(\"Kí tự in hoa tương ứng của\", s + \":\", s_hoa)"
   ]
  },
  {
   "cell_type": "code",
   "execution_count": 25,
   "id": "e1befc66-1669-4003-9e6b-365d5997fe2f",
   "metadata": {},
   "outputs": [
    {
     "name": "stdout",
     "output_type": "stream",
     "text": [
      "A = 512\n",
      "B = 512\n"
     ]
    }
   ],
   "source": [
    "#W2A7\n",
    "\n",
    "A = ((13 ** 2) * 3) + 5\n",
    "B = 13 ** 2 * 3 + 5\n",
    "\n",
    "print(\"A =\", A)\n",
    "print(\"B =\", B)"
   ]
  },
  {
   "cell_type": "code",
   "execution_count": 27,
   "id": "df6a1dba-be8d-4bdb-91eb-601d43d3e328",
   "metadata": {},
   "outputs": [
    {
     "name": "stdin",
     "output_type": "stream",
     "text": [
      "Nhập theo thang Celcius: 14.2\n"
     ]
    },
    {
     "name": "stdout",
     "output_type": "stream",
     "text": [
      "Nhiệt độ theo thang Fahrenheit: 57.56\n"
     ]
    }
   ],
   "source": [
    "#W2A8\n",
    "\n",
    "c = float(input(\"Nhập theo thang Celcius:\"))\n",
    "f = 9/5 * c + 32\n",
    "\n",
    "print(\"Nhiệt độ theo thang Fahrenheit:\", round(f,2))"
   ]
  },
  {
   "cell_type": "code",
   "execution_count": 28,
   "id": "65dc59be-7563-455a-a4e5-b0722b673116",
   "metadata": {},
   "outputs": [
    {
     "name": "stdin",
     "output_type": "stream",
     "text": [
      "Chiếc đồng hồ có giá: 5.6\n"
     ]
    },
    {
     "name": "stdout",
     "output_type": "stream",
     "text": [
      "Tổng số tiền mà Đạt phải trả để mua đồng hồ là: 17.84\n"
     ]
    }
   ],
   "source": [
    "#W2A9\n",
    "\n",
    "x = float(input(\"Chiếc đồng hồ có giá:\"))\n",
    "\n",
    "s = x + 10 + x * 0.4\n",
    "\n",
    "print(\"Tổng số tiền mà Đạt phải trả để mua đồng hồ là:\", round(s,2))\n"
   ]
  },
  {
   "cell_type": "code",
   "execution_count": 1,
   "id": "5b97b4ab-af3f-4799-b534-0b6ab1307858",
   "metadata": {},
   "outputs": [
    {
     "name": "stdin",
     "output_type": "stream",
     "text": [
      " Bob Alice Helen\n"
     ]
    },
    {
     "name": "stdout",
     "output_type": "stream",
     "text": [
      "Hi Helen, Alice and Bob.\n"
     ]
    }
   ],
   "source": [
    "#W2A10\n",
    "\n",
    "a, b, c = map(str, input().split())\n",
    "\n",
    "print(\"Hi \" + c + \", \" + b + \" and \" + a + \".\")\n"
   ]
  },
  {
   "cell_type": "code",
   "execution_count": 3,
   "id": "d679eac9-813b-4f65-9fd7-8ba920b704a0",
   "metadata": {},
   "outputs": [
    {
     "name": "stdin",
     "output_type": "stream",
     "text": [
      " 1 2\n"
     ]
    },
    {
     "name": "stdout",
     "output_type": "stream",
     "text": [
      "3720\n"
     ]
    }
   ],
   "source": [
    "#W2A11\n",
    "\n",
    "h, m = map(int, input().split())\n",
    "s = h * 60 * 60 + m * 60\n",
    "\n",
    "print(s)"
   ]
  },
  {
   "cell_type": "code",
   "execution_count": 5,
   "id": "8c524104-b016-4ee7-a381-d252d268bdae",
   "metadata": {},
   "outputs": [
    {
     "name": "stdin",
     "output_type": "stream",
     "text": [
      "Nhập n: 2\n"
     ]
    },
    {
     "name": "stdout",
     "output_type": "stream",
     "text": [
      "Số miếng dán cần thiết: 24\n"
     ]
    }
   ],
   "source": [
    "#W2A12\n",
    "\n",
    "n = int(input(\"Nhập n:\"))\n",
    "\n",
    "print(\"Số miếng dán cần thiết:\", n*n*6)\n"
   ]
  },
  {
   "cell_type": "code",
   "execution_count": 6,
   "id": "a2bd272a-08a0-408d-9e74-438e0c7a40af",
   "metadata": {},
   "outputs": [
    {
     "name": "stdin",
     "output_type": "stream",
     "text": [
      " 3 4\n"
     ]
    },
    {
     "name": "stdout",
     "output_type": "stream",
     "text": [
      "2\n"
     ]
    }
   ],
   "source": [
    "#W2A13\n",
    "\n",
    "a, b = map(int,input().split())\n",
    "\n",
    "print((a*b) % 10)"
   ]
  },
  {
   "cell_type": "code",
   "execution_count": 7,
   "id": "d485f81e-6d8b-4811-bfe1-f32289404181",
   "metadata": {},
   "outputs": [
    {
     "name": "stdin",
     "output_type": "stream",
     "text": [
      " 2 3\n"
     ]
    },
    {
     "name": "stdout",
     "output_type": "stream",
     "text": [
      "a = 3\n",
      "b = 2\n"
     ]
    }
   ],
   "source": [
    "#W2A14\n",
    "\n",
    "a, b = map(int,input().split())\n",
    "a, b = b, a\n",
    "\n",
    "print(\"a =\", a)\n",
    "print(\"b =\", b)"
   ]
  },
  {
   "cell_type": "code",
   "execution_count": 10,
   "id": "8d6ec326-dae9-46b1-aaf9-34c0af099c6e",
   "metadata": {},
   "outputs": [
    {
     "name": "stdin",
     "output_type": "stream",
     "text": [
      "Nhập n: 3\n"
     ]
    },
    {
     "name": "stdout",
     "output_type": "stream",
     "text": [
      "Số sao thứ 3: 37\n"
     ]
    }
   ],
   "source": [
    "#W2A15\n",
    "\n",
    "n = int(input(\"Nhập n:\"))\n",
    "s = 6 * n * (n - 1) +1\n",
    "s = int(s)\n",
    "print(\"Số sao thứ \" + str(n) + \": \" + str(s))"
   ]
  },
  {
   "cell_type": "code",
   "execution_count": 11,
   "id": "d9121a7b-2557-48d8-88cd-45a9fca32cd5",
   "metadata": {},
   "outputs": [
    {
     "name": "stdout",
     "output_type": "stream",
     "text": [
      "Spring\n",
      "Summer\n",
      "Autumn\n",
      "Winter\n"
     ]
    }
   ],
   "source": [
    "#W2A16\n",
    "\n",
    "lst = [\"Spring\", \"Summer\", \"Autumn\", \"Winter\"]\n",
    "\n",
    "for i in lst:\n",
    "    print(i)"
   ]
  },
  {
   "cell_type": "code",
   "execution_count": 12,
   "id": "d604ae3c-0d1f-44c7-9b7c-6fae7bd4a16a",
   "metadata": {},
   "outputs": [
    {
     "name": "stdout",
     "output_type": "stream",
     "text": [
      "*\n",
      "***\n",
      "*****\n"
     ]
    }
   ],
   "source": [
    "#W2A17\n",
    "\n",
    "s = \"\"\n",
    "\n",
    "for i in range (3):\n",
    "    s = \"\"\n",
    "    for k in range (2*i + 1):\n",
    "        s += \"*\"\n",
    "    print(s)\n"
   ]
  },
  {
   "cell_type": "code",
   "execution_count": 16,
   "id": "66389d7c-1d26-4464-b081-408bdf0cd764",
   "metadata": {},
   "outputs": [
    {
     "name": "stdout",
     "output_type": "stream",
     "text": [
      "### # #   ### ###\n",
      " #  #  #   #   #\n",
      " #  #   #  #   #\n",
      " #  #  #   #   #\n",
      " #  # #    #   #\n"
     ]
    }
   ],
   "source": [
    "#W2A18\n",
    "\n",
    "print(\"### # #   ### ###\")\n",
    "print(\" #  #  #   #   #\")\n",
    "print(\" #  #   #  #   #\")\n",
    "print(\" #  #  #   #   #\")\n",
    "print(\" #  # #    #   #\")"
   ]
  },
  {
   "cell_type": "code",
   "execution_count": 17,
   "id": "2a96da03-9740-444e-8865-8ab6f2300211",
   "metadata": {},
   "outputs": [
    {
     "name": "stdout",
     "output_type": "stream",
     "text": [
      "Monday\n",
      "Tuesday\n",
      "Wednesday\n",
      "Thursday\n",
      "Friday\n",
      "Saturday\n",
      "Sunday\n"
     ]
    }
   ],
   "source": [
    "#W2A19\n",
    "\n",
    "lst = [\"Monday\", \"Tuesday\", \"Wednesday\", \"Thursday\", \"Friday\", \"Saturday\", \"Sunday\"]\n",
    "\n",
    "for i in lst:\n",
    "    print(i)"
   ]
  },
  {
   "cell_type": "code",
   "execution_count": 18,
   "id": "8eb320ef-0daa-4586-b8c6-46a380b6bd34",
   "metadata": {},
   "outputs": [
    {
     "name": "stdout",
     "output_type": "stream",
     "text": [
      "January\n",
      "February\n",
      "March\n",
      "April\n",
      "May\n",
      "June\n",
      "July\n",
      "August\n",
      "September\n",
      "October\n",
      "November\n",
      "December\n"
     ]
    }
   ],
   "source": [
    "#W2A20\n",
    "\n",
    "lst = [\"January\", \"February\", \"March\", \"April\", \"May\", \"June\", \"July\", \"August\", \"September\", \"October\", \"November\", \"December\"]\n",
    "\n",
    "for i in lst:\n",
    "    print(i)"
   ]
  },
  {
   "cell_type": "code",
   "execution_count": 19,
   "id": "3da3a764-ac1f-4a3e-8e8f-bb890a21562e",
   "metadata": {},
   "outputs": [
    {
     "name": "stdout",
     "output_type": "stream",
     "text": [
      "Hello, world\n",
      "Hello, world\n",
      "Hello, world\n",
      "Hello, world\n",
      "Hello, world\n",
      "Hello, world\n",
      "Hello, world\n",
      "Hello, world\n",
      "Hello, world\n",
      "Hello, world\n"
     ]
    }
   ],
   "source": [
    "#W2A21\n",
    "\n",
    "for i in range (10):\n",
    "    print(\"Hello, world\")"
   ]
  },
  {
   "cell_type": "code",
   "execution_count": null,
   "id": "8d72b161-4f42-434f-8a74-8f89f1d28038",
   "metadata": {},
   "outputs": [],
   "source": []
  }
 ],
 "metadata": {
  "kernelspec": {
   "display_name": "Python 3 (ipykernel)",
   "language": "python",
   "name": "python3"
  },
  "language_info": {
   "codemirror_mode": {
    "name": "ipython",
    "version": 3
   },
   "file_extension": ".py",
   "mimetype": "text/x-python",
   "name": "python",
   "nbconvert_exporter": "python",
   "pygments_lexer": "ipython3",
   "version": "3.13.7"
  }
 },
 "nbformat": 4,
 "nbformat_minor": 5
}
