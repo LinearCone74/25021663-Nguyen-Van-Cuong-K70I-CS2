{
 "cells": [
  {
   "cell_type": "code",
   "execution_count": 2,
   "id": "78833851-c824-4757-ab44-deecf300ef0b",
   "metadata": {},
   "outputs": [
    {
     "name": "stdin",
     "output_type": "stream",
     "text": [
      " 3\n"
     ]
    },
    {
     "name": "stdout",
     "output_type": "stream",
     "text": [
      "6\n"
     ]
    }
   ],
   "source": [
    "#BTVN - BÀI 1\n",
    "\n",
    "n = int(input())\n",
    "\n",
    "print(2 * n)"
   ]
  },
  {
   "cell_type": "code",
   "execution_count": 4,
   "id": "18c7860e-1cdd-4101-abe5-2a09b690ec2e",
   "metadata": {},
   "outputs": [
    {
     "name": "stdin",
     "output_type": "stream",
     "text": [
      " 3 4\n"
     ]
    },
    {
     "name": "stdout",
     "output_type": "stream",
     "text": [
      "7.07\n"
     ]
    }
   ],
   "source": [
    "#BTVN - BÀI 2\n",
    "\n",
    "a, b = map(int, input().split())\n",
    "s = a * a * 3.14 / 4\n",
    "\n",
    "print (round(s,2))"
   ]
  },
  {
   "cell_type": "code",
   "execution_count": 8,
   "id": "e5365329-110e-415a-80a9-6b912167a303",
   "metadata": {},
   "outputs": [
    {
     "name": "stdin",
     "output_type": "stream",
     "text": [
      " D\n"
     ]
    },
    {
     "name": "stdout",
     "output_type": "stream",
     "text": [
      "d\n"
     ]
    }
   ],
   "source": [
    "#BTVN - BÀI 3\n",
    "\n",
    "c = input()\n",
    "\n",
    "if (c == c.lower()): print(c.upper())\n",
    "else: print(c.lower())"
   ]
  },
  {
   "cell_type": "code",
   "execution_count": 17,
   "id": "da53c6ae-6dce-4271-8066-8f054cbc217a",
   "metadata": {},
   "outputs": [
    {
     "name": "stdin",
     "output_type": "stream",
     "text": [
      " f\n"
     ]
    },
    {
     "name": "stdout",
     "output_type": "stream",
     "text": [
      "f là kí tự alphabet\n"
     ]
    }
   ],
   "source": [
    "#BTVN - BÀI 4\n",
    "\n",
    "c = input()\n",
    "d = c\n",
    "c = c.lower()\n",
    "k = ord(c)\n",
    "\n",
    "if ((k >= 97) and (k <= 122)):\n",
    "    print(d, \"là kí tự alphabet\")\n",
    "else: \n",
    "    print(d, \"không phải là kí tự alphabet\")"
   ]
  },
  {
   "cell_type": "code",
   "execution_count": 20,
   "id": "b31afcb6-ecc6-4592-9247-d873ca10732b",
   "metadata": {},
   "outputs": [
    {
     "name": "stdin",
     "output_type": "stream",
     "text": [
      " B\n"
     ]
    },
    {
     "name": "stdout",
     "output_type": "stream",
     "text": [
      "a\n"
     ]
    }
   ],
   "source": [
    "#BTVN - BÀI 5\n",
    "\n",
    "c = input()\n",
    "\n",
    "if (c == \"A\"): print(\"z\")\n",
    "else:\n",
    "    c = c.lower()\n",
    "    print(chr(ord(c) - 1))\n",
    "                     "
   ]
  },
  {
   "cell_type": "code",
   "execution_count": 26,
   "id": "82501273-30fd-401a-b57c-6a230838d18e",
   "metadata": {},
   "outputs": [
    {
     "name": "stdin",
     "output_type": "stream",
     "text": [
      " 2 4 3\n"
     ]
    },
    {
     "name": "stdout",
     "output_type": "stream",
     "text": [
      "2.9\n"
     ]
    }
   ],
   "source": [
    "#BTVN - BÀI 6\n",
    "\n",
    "import math\n",
    "\n",
    "def tamgiac(a, b, c):\n",
    "    if ((a + b > c) and (b + c > a) and (c + a > b)): return True\n",
    "    return False\n",
    "    \n",
    "a, b, c = map(int,input().split())\n",
    "\n",
    "if (tamgiac(a, b, c)):\n",
    "    p = (a + b + c) / 2\n",
    "    s = p * (p-a) * (p-b) * (p-c)\n",
    "    s = math.sqrt(s)\n",
    "    print(round(s,1))\n",
    "else:\n",
    "    print(\"Không phải 3 cạnh của tam giác\")\n",
    "    "
   ]
  },
  {
   "cell_type": "code",
   "execution_count": 27,
   "id": "6f92194b-4b9e-40a8-8702-1677994bae52",
   "metadata": {},
   "outputs": [
    {
     "name": "stdin",
     "output_type": "stream",
     "text": [
      " abcdefghikl;kjsafdw\n"
     ]
    },
    {
     "name": "stdout",
     "output_type": "stream",
     "text": [
      "Chữ cái thứ 5 là: e\n",
      "Chữ cái thứ 9 là: i\n"
     ]
    }
   ],
   "source": [
    "#BTVN - BÀI 7\n",
    "\n",
    "s = input()\n",
    "\n",
    "print(\"Chữ cái thứ 5 là:\", s[4])\n",
    "print(\"Chữ cái thứ 9 là:\", s[8])"
   ]
  },
  {
   "cell_type": "code",
   "execution_count": null,
   "id": "7129b46e-394c-400c-9e15-3999d5786b4d",
   "metadata": {},
   "outputs": [],
   "source": [
    "#BTVN - BÀI 8\n",
    "\n",
    "name = input(\"Ten chu ho:\")\n",
    "a = int(input(\"Chi so thang truoc:\"))\n",
    "b = int(input(\"Chi so thang nay:\"))\n",
    "\n",
    "################"
   ]
  },
  {
   "cell_type": "code",
   "execution_count": 29,
   "id": "a5869b86-d553-4b08-96af-e142407601bd",
   "metadata": {},
   "outputs": [
    {
     "name": "stdin",
     "output_type": "stream",
     "text": [
      " 4\n"
     ]
    },
    {
     "name": "stdout",
     "output_type": "stream",
     "text": [
      "So chan\n"
     ]
    }
   ],
   "source": [
    "#Bài tập khác - Bài 1\n",
    "\n",
    "n = int(input())\n",
    "\n",
    "if (n % 2 == 0): print(\"So chan\")\n",
    "else: print(\"So le\")"
   ]
  },
  {
   "cell_type": "code",
   "execution_count": 32,
   "id": "f345460f-fc7e-451e-8913-b1e9b8b7e274",
   "metadata": {},
   "outputs": [
    {
     "name": "stdin",
     "output_type": "stream",
     "text": [
      " 15\n"
     ]
    },
    {
     "name": "stdout",
     "output_type": "stream",
     "text": [
      "True\n"
     ]
    }
   ],
   "source": [
    "#Bài tập khác - Bài 2\n",
    "\n",
    "n = int(input())\n",
    "\n",
    "if (n % 10 == 5): print(\"True\")\n",
    "else: print(\"False\")"
   ]
  },
  {
   "cell_type": "code",
   "execution_count": 33,
   "id": "b7f63cf0-52ac-421d-b671-4f88f06f6d75",
   "metadata": {},
   "outputs": [
    {
     "name": "stdin",
     "output_type": "stream",
     "text": [
      " 35\n"
     ]
    },
    {
     "name": "stdout",
     "output_type": "stream",
     "text": [
      "False\n"
     ]
    }
   ],
   "source": [
    "#Bài tập khác - Bài 3\n",
    "\n",
    "n = int(input())\n",
    "\n",
    "if (n % 15 == 0): print(\"True\")\n",
    "else: print(\"False\")\n"
   ]
  },
  {
   "cell_type": "code",
   "execution_count": 36,
   "id": "446ac955-c89a-4e52-82d5-91495694ef57",
   "metadata": {},
   "outputs": [
    {
     "name": "stdin",
     "output_type": "stream",
     "text": [
      " 18\n"
     ]
    },
    {
     "name": "stdout",
     "output_type": "stream",
     "text": [
      "Du tuoi bau cu\n"
     ]
    }
   ],
   "source": [
    "#Bài tập khác - Bài 4\n",
    "\n",
    "n = int(input())\n",
    "\n",
    "if (n >= 18): print(\"Du tuoi bau cu\")\n",
    "else: print(\"Chua du tuoi bau cu\")"
   ]
  },
  {
   "cell_type": "code",
   "execution_count": 37,
   "id": "031c2161-c8db-4519-a78d-d3cde7e8c0c9",
   "metadata": {},
   "outputs": [
    {
     "name": "stdin",
     "output_type": "stream",
     "text": [
      " 1 4\n"
     ]
    },
    {
     "name": "stdout",
     "output_type": "stream",
     "text": [
      "4\n"
     ]
    }
   ],
   "source": [
    "#Bài tập khác - Bài 5\n",
    "\n",
    "a, b = map(int,input().split())\n",
    "\n",
    "if (a == b): print(\"Hai so bang nhau\")\n",
    "elif (a > b): print(a)\n",
    "else: print(b)"
   ]
  },
  {
   "cell_type": "code",
   "execution_count": 39,
   "id": "39e135aa-93dc-408f-a374-6c840b72c1dd",
   "metadata": {},
   "outputs": [
    {
     "name": "stdin",
     "output_type": "stream",
     "text": [
      " d\n"
     ]
    },
    {
     "name": "stdout",
     "output_type": "stream",
     "text": [
      "d la chu cai\n"
     ]
    }
   ],
   "source": [
    "#Bài tập khác - Bài 6\n",
    "\n",
    "lst = []\n",
    "for i in range (10):\n",
    "    lst.append(str(i))\n",
    "\n",
    "s = input()\n",
    "if (s in lst):\n",
    "    print(s, \"la so\")\n",
    "else: \n",
    "    print(s, \"la chu cai\")"
   ]
  },
  {
   "cell_type": "code",
   "execution_count": 43,
   "id": "0b1751ce-de86-44a9-a88f-2e65f9215885",
   "metadata": {},
   "outputs": [
    {
     "name": "stdin",
     "output_type": "stream",
     "text": [
      " 5.5\n"
     ]
    },
    {
     "name": "stdout",
     "output_type": "stream",
     "text": [
      "Trung bình\n"
     ]
    }
   ],
   "source": [
    "#Bài tập khác - Bài 7\n",
    "\n",
    "n = float(input())\n",
    "\n",
    "if (n >= 8): print(\"Giỏi\")\n",
    "elif (n >= 6.5): print(\"Khá\")\n",
    "elif (n >= 5): print(\"Trung bình\")\n",
    "else: print(\"Yếu\")"
   ]
  },
  {
   "cell_type": "code",
   "execution_count": 44,
   "id": "dd6fa045-e5bc-46aa-abee-7bed5ff9fb7e",
   "metadata": {},
   "outputs": [
    {
     "name": "stdin",
     "output_type": "stream",
     "text": [
      " 2025\n"
     ]
    },
    {
     "name": "stdout",
     "output_type": "stream",
     "text": [
      "2025 không là năm nhuận\n"
     ]
    }
   ],
   "source": [
    "#Bài tập khác - Bài 8\n",
    "\n",
    "n = int(input())\n",
    "\n",
    "if (n % 400 == 0):\n",
    "    print(n, \"là năm nhuận\")\n",
    "elif ((n % 4 == 0) and (n % 100 != 0)):\n",
    "    print(n, \"là năm nhuận\")\n",
    "else: \n",
    "    print(n, \"không là năm nhuận\")\n",
    "    "
   ]
  },
  {
   "cell_type": "code",
   "execution_count": 45,
   "id": "97d96107-19b8-44b2-aef6-2f3c98b096fb",
   "metadata": {},
   "outputs": [
    {
     "name": "stdin",
     "output_type": "stream",
     "text": [
      " 3\n"
     ]
    },
    {
     "name": "stdout",
     "output_type": "stream",
     "text": [
      "Ba\n"
     ]
    }
   ],
   "source": [
    "#Bài tập khác - Bài 9\n",
    "\n",
    "lst = [\"Không\", \"Một\", \"Hai\", \"Ba\", \"Bốn\", \"Năm\", \"Sáu\", \"Bảy\", \"Tám\", \"Chín\"]\n",
    "\n",
    "n = int(input())\n",
    "print(lst[n])"
   ]
  },
  {
   "cell_type": "code",
   "execution_count": 48,
   "id": "8d10f81b-a8c4-4e19-be1e-61953d18e72e",
   "metadata": {},
   "outputs": [
    {
     "name": "stdin",
     "output_type": "stream",
     "text": [
      " 4.5\n"
     ]
    },
    {
     "name": "stdout",
     "output_type": "stream",
     "text": [
      "Qua môn\n"
     ]
    }
   ],
   "source": [
    "#Bài tập khác - Bài 10\n",
    "\n",
    "n = float(input())\n",
    "\n",
    "if (n >= 4): print(\"Qua môn\")\n",
    "else: print(\"Học lại\")"
   ]
  },
  {
   "cell_type": "code",
   "execution_count": 49,
   "id": "274cf0b7-82ad-45f1-9605-1643a1c79878",
   "metadata": {},
   "outputs": [
    {
     "name": "stdin",
     "output_type": "stream",
     "text": [
      "Nhập năm sinh: 2007\n"
     ]
    },
    {
     "name": "stdout",
     "output_type": "stream",
     "text": [
      "Đã đủ 18 tuổi\n"
     ]
    }
   ],
   "source": [
    "#Bài tập khác - Bài 11\n",
    "\n",
    "n = int(input(\"Nhập năm sinh:\"))\n",
    "\n",
    "if (2025 - n >= 18): print(\"Đã đủ 18 tuổi\")\n",
    "else: print(\"Chưa đủ 18 tuổi\")"
   ]
  },
  {
   "cell_type": "code",
   "execution_count": null,
   "id": "19b4a3ca-b14d-4e07-a92d-06489b2e5cf3",
   "metadata": {},
   "outputs": [],
   "source": []
  }
 ],
 "metadata": {
  "kernelspec": {
   "display_name": "Python 3 (ipykernel)",
   "language": "python",
   "name": "python3"
  },
  "language_info": {
   "codemirror_mode": {
    "name": "ipython",
    "version": 3
   },
   "file_extension": ".py",
   "mimetype": "text/x-python",
   "name": "python",
   "nbconvert_exporter": "python",
   "pygments_lexer": "ipython3",
   "version": "3.13.7"
  }
 },
 "nbformat": 4,
 "nbformat_minor": 5
}
